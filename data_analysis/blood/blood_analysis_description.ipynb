{
 "cells": [
  {
   "cell_type": "markdown",
   "metadata": {},
   "source": [
    "# Steps to reproduce blood phylogenies analysis"
   ]
  },
  {
   "cell_type": "markdown",
   "metadata": {},
   "source": [
    "This part of analysis requires data for sequences of blood single-cell derived colonies from "
   ]
  },
  {
   "cell_type": "markdown",
   "metadata": {},
   "source": [
    "1. LAD inference in chemotherapy treated patient\n",
    "\n",
    "Simulate distribution of multi-allelic sites by chromosomes suggesting different LADs and number of somatic recombinations.\n",
    "\n",
    "> Script: ```./lesion_segregation/data_analysis/blood/scripts/LAD_inference_with_recombination.R```\n",
    "\n",
    "> Output file:  ``` ```\n"
   ]
  },
  {
   "cell_type": "markdown",
   "metadata": {},
   "source": [
    "2. Estimation of correlation Watson-Crick asymmetry between nodes.\n",
    "> Script: ```./lesion_segregation/data_analysis/blood/scripts/WC_asymmetry_chemo_tree.R```\n",
    "\n",
    "> Output:"
   ]
  },
  {
   "cell_type": "markdown",
   "metadata": {},
   "source": [
    "3. Tests for clonal expantions in aging blood\n",
    "\n",
    "> Script: ```./lesion_segregation/data_analysis/data_analysis/blood/scripts/PVV_tests_aging_blood.R```\n",
    "\n",
    "> Output:"
   ]
  },
  {
   "cell_type": "markdown",
   "metadata": {},
   "source": []
  }
 ],
 "metadata": {
  "language_info": {
   "name": "python"
  },
  "orig_nbformat": 4
 },
 "nbformat": 4,
 "nbformat_minor": 2
}
