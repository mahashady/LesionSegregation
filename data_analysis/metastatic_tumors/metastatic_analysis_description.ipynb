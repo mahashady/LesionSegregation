{
 "cells": [
  {
   "cell_type": "markdown",
   "metadata": {},
   "source": [
    "# Steps to reproduce Hartwig dataset analysis"
   ]
  },
  {
   "cell_type": "markdown",
   "metadata": {},
   "source": [
    "1. Preprocessing of pre-biopsy treatment\n",
    "\n",
    "For each sample adds additional columns with annotation of treatment of interest (platinum, alkylating, immunotherapy). Annotate each sample as 0 or 1 depending on the presence of treatment of interest in the \"mechanism column\".\n",
    "\n",
    "> Script: ```./lesion_segregation/metastatic_tumors/scripts/aggregate_prebiopsy_treatment.R```\n",
    "\n",
    "> Output file:  ```./lesion_segregation/metastatic_tumors/results/pre_biopsy_drugs.agg.txt ```\n"
   ]
  },
  {
   "cell_type": "markdown",
   "metadata": {},
   "source": [
    "2. Calculate aggregated statistics on number of bi- and multi-allelic sites in each tumor.\n",
    "Only SNPs were taken into this analysis.\n",
    "\n",
    "This step requires vcf files with somatic mutations from Hartwig database. \n",
    "\n",
    "> Script:  ```./lesion_segregation/metastatic_tumors/scripts/multiallelic_sites_counts.R ```\n",
    "\n",
    "> Results:  ```./lesion_segregation/metastatic_tumors/results/ALL_Hartwig_bi_multi.txt ```\n",
    "            ```./lesion_segregation/metastatic_tumors/results/ALL_Hartwig_bi_multi.by_chr.txt ```\n"
   ]
  },
  {
   "cell_type": "markdown",
   "metadata": {},
   "source": [
    "3. Estimate enrichement in the number of observed multi-allelic sites and correlate it with treatment type.\n",
    "\n",
    "> Script: ```./lesion_segregation/metastatic_tumors/scripts/multi_enrichment_vs_treatment.R ```\n",
    "\n",
    "> Results: ```./lesion_segregation/metastatic_tumors/results/all_enriched.chemo_alkyl_immuno.txt ```,\n",
    "```./lesion_segregation/metastatic_tumors/results/all_enriched.chemo_alkyl_immuno.txt ```\n",
    "\n",
    "> Plots: ```./lesion_segregation/metastatic_tumors/plots/Hartwig_multiallelic_enriched_vs_treatment.jpeg```\n"
   ]
  },
  {
   "cell_type": "markdown",
   "metadata": {},
   "source": [
    "4. Select multi-allelic sites, check if there is germline SNP closeby and annotate with context.\n",
    "\n",
    "This step requires vcf files with germline mutations per sample from Hartwig database.\n",
    "\n",
    "> Script: ``` ./lesion_segregation/metastatic_tumors/scripts/check_germline_close2multisite.R ```\n",
    "           \n",
    "> Results: ```./lesion_segregation/metastatic_tumors/results/multi_sites_by_sample_enriched.chemo_alkyl_immuno ```\n",
    "            ```./lesion_segregation/metastatic_tumors/results/multi_sites_by_sample_NONenriched.chemo_alkyl_immuno ```"
   ]
  },
  {
   "cell_type": "markdown",
   "metadata": {},
   "source": [
    "5. Select bi-allelic sites \n",
    "\n",
    "> Script: ```./lesion_segregation/data_analysis/metastatic_tumors/scripts/select_biallelic_sites.py ```\n",
    "           \n",
    "> Results: ```./lesion_segregation/data_analysis/metastatic_tumors/results/bi_sites_by_sample_NONenriched.chemo_alkyl_immuno```\n",
    "```./lesion_segregation/data_analysis/metastatic_tumors/results/bi_sites_by_sample_enriched.chemo_alkyl_immuno```"
   ]
  },
  {
   "cell_type": "markdown",
   "metadata": {
    "vscode": {
     "languageId": "plaintext"
    }
   },
   "source": [
    "6. Calculate 3nt specta of bi- and multi-allelic sites separately for enriched and non-enriched in multiallelic sites samples. \n",
    "Scripts should be run separately for platinum treatment and alkylating treatment. This can be defined by variable \"subset\" in the script.\n",
    "\n",
    "> Script: ```./lesion_segregation/data_analysis/metastatic_tumors/scripts/3nt_spectrum_of_bi_sites.R```\n",
    "\n",
    "```./lesion_segregation/data_analysis/metastatic_tumors/scripts/3nt_spectrum_of_bi_sites.R```\n",
    "           \n",
    "> Results: \n",
    "```./lesion_segregation/data_analysis/metastatic_tumors/results/bi_spectrum_by_sample_enriched.chemo_alkyl_immuno```\n",
    "```./lesion_segregation/data_analysis/metastatic_tumors/results/bi_spectrum_by_sample_NONenriched.chemo_alkyl_immuno```\n",
    "```./lesion_segregation/data_analysis/metastatic_tumors/results/multi_spectrum```\n",
    "\n",
    "> Plots: \n",
    "```./lesion_segregation/data_analysis/metastatic_tumors/plots/biallelic_spectrum_enriched_vs_NONenriched_Alkylating.jpeg```\n",
    "```./lesion_segregation/data_analysis/metastatic_tumors/plots/biallelic_spectrum_enriched_vs_NONenriched_Platinum.jpeg```\n",
    "```./lesion_segregation/data_analysis/metastatic_tumors/plots/multiallelic_spectrum_enriched_vs_NONenriched_Alkylating.jpeg```\n",
    "```./lesion_segregation/data_analysis/metastatic_tumors/plots/multiallelic_spectrum_enriched_vs_NONenriched_Platinum.jpeg```\n"
   ]
  },
  {
   "cell_type": "markdown",
   "metadata": {},
   "source": [
    "7. Compute triallelic stectra expected from independence (based on bi-allelic frequencies) and expected from signatures of known treatments. \n",
    "For signatures script should be run separately for platinum and alkylating treatments. This could be defined in the variable \"treatment\" within the script.\n",
    "> Scripts: \n",
    "```./lesion_segregation/data_analysis/metastatic_tumors/scripts/compute_expected_triallelic_spectrum.py```\n",
    "```./lesion_segregation/data_analysis/metastatic_tumors/scripts/compute_triallelic_signatures.py```\n",
    "\n",
    ">Output:\n",
    "```./lesion_segregation/data_analysis/metastatic_tumors/results/expected_triallelic_spectrum/```\n"
   ]
  },
  {
   "cell_type": "markdown",
   "metadata": {},
   "source": [
    "8. Compare observed tri-alleic spectrum with expected from independence or expected from signatures. \n",
    "\n",
    "> Scrips:\n",
    "```./lesion_segregation/data_analysis/metastatic_tumors/scripts/compare_observed_vs_expected_triallelic.Alkylating.R```\n",
    "```./lesion_segregation/data_analysis/metastatic_tumors/scripts/compare_observed_vs_expected_triallelic.Platinum.R```\n",
    "\n",
    "> Output:\n",
    "```./lesion_segregation/data_analysis/metastatic_tumors/plots/compare_multiallelic_expected_vs_observed_*```"
   ]
  },
  {
   "cell_type": "markdown",
   "metadata": {},
   "source": [
    "9. Phase multiallelic sites using nearby SNPs. \n",
    "For this step mini-bam files including regions around multi-allelic sites are required.\n",
    "\n",
    "> Script: ```./lesion_segregation/data_analysis/metastatic_tumors/scripts/phase_multisites.R ```\n",
    "\n",
    "> Output:"
   ]
  },
  {
   "cell_type": "markdown",
   "metadata": {},
   "source": [
    "10. Estimate LAD for samples with >= 5 multiallelic variants.\n",
    "\n",
    "> Scripts: ```./lesion_segregation/data_analysis/metastatic_tumors/scripts/permutations_Hartwig.R```\n",
    "\n",
    "> Output: ```./lesion_segregation/data_analysis/metastatic_tumors/plots/LAD/```"
   ]
  },
  {
   "cell_type": "markdown",
   "metadata": {},
   "source": []
  }
 ],
 "metadata": {
  "language_info": {
   "name": "python"
  },
  "orig_nbformat": 4
 },
 "nbformat": 4,
 "nbformat_minor": 2
}
