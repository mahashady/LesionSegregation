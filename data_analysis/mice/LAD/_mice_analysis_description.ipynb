{
 "cells": [
  {
   "cell_type": "markdown",
   "metadata": {},
   "source": [
    "# Steps to reproduce the analysis of mice data"
   ]
  },
  {
   "cell_type": "markdown",
   "metadata": {},
   "source": [
    "1. Create input files for HMMs\n",
    "\n",
    "Keeps only SNVs. Adds to each SNV the classification based on the presence of several alternative variants for HMMmulti: \"M\" - more than one alternative variant is present with the support of at least 3 reads each, \"B\" - others. And adds a column with the type of substitution based on the refernce nucleotide (\"A>N\", \"T>N\", \"G>N\" or \"C>N\") for HMMas.\n",
    "\n",
    "> Script: ```/workspace/projects/lesion_segregation/mice/scripts/HMM_preprocessing.pl```\n",
    "\n",
    "> Output files:  ```/mice/results/HMM/input_HMM/*.hmm ```\n",
    "\n",
    "> Description of output files:  ```/mice/results/HMM/inputHMMfile_description.txt ```"
   ]
  },
  {
   "cell_type": "markdown",
   "metadata": {},
   "source": [
    "2. Run two separate HMMs - one for multiallelic sites and second for the WC asymmetry\n",
    "\n",
    "> Script:  ```/mice/scripts/run_2HMMS.R <sampleID>.hmm```\n",
    "\n",
    "* It could be run in parallel for different samples \n",
    "\n",
    "> Results:  ```/workspace/projects/lesion_segregation/mice/results/HMM/output_HMM ```\n",
    "\n",
    "> Description of output:  ```/workspace/projects/lesion_segregation/mice/results/HMM/README_HMM.txt ```"
   ]
  },
  {
   "cell_type": "markdown",
   "metadata": {},
   "source": [
    "3. Aggregate HMM results\n",
    "\n",
    "> Script: ```/workspace/projects/lesion_segregation/mice/scripts/aggregate_hmm_summary.pl ```\n",
    "\n",
    "> Results: ```/workspace/projects/lesion_segregation/mice/results/HMM/Summary.tsv ```\n",
    "\n",
    "> Description of the output: ```/workspace/projects/lesion_segregation/mice/results/HMM/README_HMM.txt ```"
   ]
  },
  {
   "cell_type": "markdown",
   "metadata": {},
   "source": [
    "4. Fit vaf distribution as a mixture of 2 normal distributions (clonal and subclonal mutations) and run HMM for WC asymmetry with 3 states separately for clonal and subclonal mutations. \n",
    "\n",
    "> Script: ```/workspace/projects/lesion_segregation/mice/scripts/HMM_subclone.R ```\n",
    "           \n",
    "            ```/workspace/projects/lesion_segregation/mice/scripts/HMM_subclone.sh ```\n",
    "\n",
    "> Results: ```/workspace/projects/lesion_segregation/mice/results/HMM/HMM_subclone/ ```\n",
    "\n",
    "> Description of the output: ```/workspace/projects/lesion_segregation/mice/results/HMM/README_HMM_subclone.txt ```"
   ]
  },
  {
   "cell_type": "markdown",
   "metadata": {},
   "source": [
    "5. Aggregate results from previous step (HMM_subclone) and classify tumors to symmetric/diploid/tetraploid.\n",
    "\n",
    "> Script: ```/workspace/projects/lesion_segregation/mice/scripts/aggregate_hmm_subclone_summary.pl ```\n",
    "           \n",
    "> Results: ```/workspace/projects/lesion_segregation/mice/results/HMM/Summary_subclone.tsv```\n",
    "\n",
    "> Description of the output: ```/workspace/projects/lesion_segregation/mice/results/HMM/README_HMM_subclone.txt ```"
   ]
  },
  {
   "cell_type": "code",
   "execution_count": null,
   "metadata": {
    "vscode": {
     "languageId": "plaintext"
    }
   },
   "outputs": [],
   "source": [
    "6. LAD inference\n",
    "\n",
    "> Script: ```/workspace/projects/lesion_segregation/mice/scripts/infer_LAD_from_HMM_summary.R```\n",
    "           \n",
    "> Results: ``````\n"
   ]
  },
  {
   "cell_type": "markdown",
   "metadata": {},
   "source": []
  }
 ],
 "metadata": {
  "language_info": {
   "name": "python"
  },
  "orig_nbformat": 4
 },
 "nbformat": 4,
 "nbformat_minor": 2
}
