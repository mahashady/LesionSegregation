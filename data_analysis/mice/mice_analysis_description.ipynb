{
 "cells": [
  {
   "cell_type": "markdown",
   "metadata": {},
   "source": [
    "# Steps to reproduce the analysis of mice data"
   ]
  },
  {
   "cell_type": "markdown",
   "metadata": {
    "vscode": {
     "languageId": "plaintext"
    }
   },
   "source": [
    "### LAD inference"
   ]
  },
  {
   "cell_type": "markdown",
   "metadata": {},
   "source": [
    "1. Create input files for HMMs\n",
    "\n",
    "Uses as input processed data from Aitken et al.Nature 2020 in the format of \".nodMat\" containing list of mutations per sample.\n",
    "Keeps only SNVs. Adds to each SNV the classification based on the presence of several alternative variants for HMMmulti: \"M\" - more than one alternative variant is present with the support of at least 3 reads each, \"B\" - others. And adds a column with the type of substitution based on the refernce nucleotide (\"A>N\", \"T>N\", \"G>N\" or \"C>N\") for HMMas. Produces one file per sample with \".hmm\" extention.\n",
    "\n",
    "Example input and output files are provided in the corresponding folders.\n",
    "\n",
    "> Script: ```LAD/scripts/HMM_preprocessing.pl```\n",
    "\n",
    "> Output: ```LAD/results/HMM/input_HMM/*.hmm```\n",
    "\n",
    "> Description of output files:  ```LAD/descriptions/README_inputHMMfile_description```"
   ]
  },
  {
   "cell_type": "markdown",
   "metadata": {},
   "source": [
    "2. Run two separate HMMs - one for multiallelic sites and second for the WC asymmetry\n",
    "\n",
    "> Script:  ```LAD/scripts/run_2HMMS.R <sampleID>.hmm```\n",
    "\n",
    "* Better to run in parallel for different samples as it could take around 10mins per sample. \n",
    "\n",
    "> Output:  ```LAD/results/HMM/output_HMM/ ```\n",
    "\n",
    "> Description of output:  ```LAD/descriptions/README_outputHMM_description ```"
   ]
  },
  {
   "cell_type": "markdown",
   "metadata": {},
   "source": [
    "3. Aggregate HMM results\n",
    "\n",
    "> Script: ```LAD/scripts/aggregate_hmm_summary.pl ```\n",
    "\n",
    "> Results: ```LAD/results/HMM/HMM_summary.tsv ```\n",
    "\n",
    "> Description of the output: ```LAD/descriptions/README_outputHMM_description ```"
   ]
  },
  {
   "cell_type": "markdown",
   "metadata": {},
   "source": [
    "4. Fit vaf distribution as a mixture of 2 normal distributions (clonal and subclonal mutations) and run HMM for WC asymmetry with 3 states separately for clonal and subclonal mutations. \n",
    "\n",
    "> Script: ```LAD/HMM_ploidy.R  <sampleID.hmm>```\n",
    "\n",
    "* It could be run in parallel for different samples \n",
    "\n",
    "    An example of the script to run it in parallel with SLURM is provided here (the input path has to be updated for your dir):\n",
    "\n",
    "    ```LAD/HMM_ploidy.sh```\n",
    "\n",
    "> Results: ```LAD/results/HMM/HMM_ploidy/ ```\n",
    "\n",
    "> Description of the output: ```LAD/descriptions/README_HMM_ploidy_description ```"
   ]
  },
  {
   "cell_type": "markdown",
   "metadata": {},
   "source": [
    "5. Aggregate results from previous step (HMM_ploidy) and classify tumors to symmetric/diploid/tetraploid.\n",
    "\n",
    "> Script: ```LAD/scripts/aggregate_hmm_ploidy_summary.pl ```\n",
    "           \n",
    "> Results: ```LAD/results/HMM/Summary_ploidy.tsv```\n",
    "\n",
    "> Description of the output: ```LAD/descriptions/README_HMM_ploidy_description ```"
   ]
  },
  {
   "cell_type": "markdown",
   "metadata": {
    "vscode": {
     "languageId": "plaintext"
    }
   },
   "source": [
    "6. LAD inference\n",
    "Uses HMM_summary.txt and Ploidy_summary.txt as input to infer LAD for each sample. Outputs several tables with the LAD annotation and illustrative plots.\n",
    "\n",
    "> Script: ```LAD/scripts/infer_LAD_from_HMM_summary.R```\n",
    "           \n",
    "> Results: \n",
    "\n",
    "```../plots/``` - illustrative plots for LAD inference\n",
    "\n",
    "```../results/Summary_mixtures.txt``` - all annotated mixtures of tumors\n",
    "\n",
    "``` ../results/Summary_divisions_with_symmetrical_no_mixtures.txt``` - all non-mixed samples annotated with LAD\n",
    "\n",
    "```../results/LAD_by_mice_line_agg.txt``` - aggregated statistic of LAD for C3H and CAST strains\n",
    "\n",
    "```../results/LAD_by_mice_line_by_driver_agg.txt``` - aggregated statistic of LAD per driver per mice strain \n",
    "\n",
    "```../results/Summary_many_drivers.txt``` - summary of LAD for samples with multiple annotated drivers"
   ]
  },
  {
   "cell_type": "markdown",
   "metadata": {},
   "source": [
    "### Error-free replication rate estimation"
   ]
  },
  {
   "cell_type": "markdown",
   "metadata": {},
   "source": [
    "1. Fit vaf distribution on each sample as a mixture of two normal distributions. Estimate mean value of each distribution and its weight in the mixture.\n",
    "\n",
    "> Main script: ```error_free_replication_rate/scripts/fit_2normal_1div_4cells_only.R```\n",
    "\n",
    "> Script to provide driver-specific estimations:```error_free_replication_rate/scripts/fit_2normal_by_driver_1div_4cells_only.R```\n",
    "\n",
    "> Output: ```error_free_replication_rate/results/fit_norm_mixture_1div_4cells.txt ```\n",
    "\n",
    "Driver-specific estimations are in the same folder with the corresponding names."
   ]
  },
  {
   "cell_type": "markdown",
   "metadata": {
    "vscode": {
     "languageId": "plaintext"
    }
   },
   "source": [
    "2. Scripts for illustration plots:\n",
    "\n",
    "```error_free_replication_rate/plot_error_free_distribution.R```\n",
    "\n",
    "```error_free_replication_rate/plot_w_subclon_vs_HMM_multi_emission.R```\n"
   ]
  },
  {
   "cell_type": "markdown",
   "metadata": {},
   "source": []
  }
 ],
 "metadata": {
  "language_info": {
   "name": "python"
  },
  "orig_nbformat": 4
 },
 "nbformat": 4,
 "nbformat_minor": 2
}
