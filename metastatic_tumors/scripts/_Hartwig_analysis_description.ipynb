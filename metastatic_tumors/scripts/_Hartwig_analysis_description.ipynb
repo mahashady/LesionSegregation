{
 "cells": [
  {
   "cell_type": "markdown",
   "metadata": {},
   "source": [
    "# Steps to reproduce Hartwig dataset analysis"
   ]
  },
  {
   "cell_type": "markdown",
   "metadata": {},
   "source": [
    "1. Preprocessing of pre-biopsy treatment\n",
    "\n",
    "For each sample adds additional columns with annotation of treatment of interest (platinum, alkylating, immunotherapy). Annotate each sample as 0 or 1 depending on the presence of treatment of interest in the \"mechanism column\".\n",
    "\n",
    "> Script: ```./lesion_segregation/metastatic_tumors/scripts/aggregate_prebiopsy_treatment.R```\n",
    "\n",
    "> Output file:  ```./lesion_segregation/metastatic_tumors/results/pre_biopsy_drugs.agg.txt ```\n"
   ]
  },
  {
   "cell_type": "markdown",
   "metadata": {},
   "source": [
    "2. Calculate aggregated statistics on number of bi- and multi-allelic sites in each tumor.\n",
    "Only SNPs were taken into this analysis.\n",
    "\n",
    "> Script:  ```./lesion_segregation/metastatic_tumors/scripts/multiallelic_sites_counts.R ```\n",
    "\n",
    "> Results:  ```./lesion_segregation/metastatic_tumors/results/ALL_Hartwig_bi_multi.txt ```\n",
    "            ```./lesion_segregation/metastatic_tumors/results/ALL_Hartwig_bi_multi.by_chr.txt ```\n"
   ]
  },
  {
   "cell_type": "markdown",
   "metadata": {},
   "source": [
    "3. Estimate enrichement in the number of observed multi-allelic sites and correlate it with treatment type.\n",
    "\n",
    "> Script: ```./lesion_segregation/metastatic_tumors/scripts/multi_enrichment_vs_treatment.R ```\n",
    "\n",
    "> Results: ```./lesion_segregation/metastatic_tumors/results/all_enriched.chemo_alkyl_immuno.txt ```,\n",
    "```./lesion_segregation/metastatic_tumors/results/all_enriched.chemo_alkyl_immuno.txt ```\n",
    "\n",
    "> Plots: ```./lesion_segregation/metastatic_tumors/plots/Hartwig_multiallelic_enriched_vs_treatment.jpeg```\n"
   ]
  },
  {
   "cell_type": "markdown",
   "metadata": {},
   "source": [
    "4. Select multi-allelic sites, check if there is germline SNP closeby and annotate with context.\n",
    "\n",
    "> Script: ``` ./lesion_segregation/metastatic_tumors/scripts/check_germline_close2multisite.R ```\n",
    "           \n",
    "> Results: ```./lesion_segregation/metastatic_tumors/results/multi_sites_by_sample_enriched.chemo_alkyl_immuno ```\n",
    "            ```./lesion_segregation/metastatic_tumors/results/multi_sites_by_sample_NONenriched.chemo_alkyl_immuno ```"
   ]
  },
  {
   "cell_type": "markdown",
   "metadata": {},
   "source": [
    "5. Aggregate results from previous step (HMM_subclone) and classify tumors to symmetric/diploid/tetraploid.\n",
    "\n",
    "> Script: ```/workspace/projects/lesion_segregation/mice/scripts/aggregate_hmm_subclone_summary.pl ```\n",
    "           \n",
    "> Results: ```/workspace/projects/lesion_segregation/mice/results/HMM/Summary_subclone.tsv```\n",
    "\n",
    "> Description of the output: ```/workspace/projects/lesion_segregation/mice/results/HMM/README_HMM_subclone.txt ```"
   ]
  },
  {
   "cell_type": "code",
   "execution_count": null,
   "metadata": {
    "vscode": {
     "languageId": "plaintext"
    }
   },
   "outputs": [],
   "source": [
    "6. LAD inference\n",
    "\n",
    "> Script: ```/workspace/projects/lesion_segregation/mice/scripts/infer_LAD_from_HMM_summary.R```\n",
    "           \n",
    "> Results: ``````\n"
   ]
  },
  {
   "cell_type": "markdown",
   "metadata": {},
   "source": []
  }
 ],
 "metadata": {
  "language_info": {
   "name": "python"
  },
  "orig_nbformat": 4
 },
 "nbformat": 4,
 "nbformat_minor": 2
}
